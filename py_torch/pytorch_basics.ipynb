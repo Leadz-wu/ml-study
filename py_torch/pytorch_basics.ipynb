{
 "cells": [
  {
   "cell_type": "markdown",
   "metadata": {},
   "source": [
    "# Pytoch - Basics"
   ]
  },
  {
   "cell_type": "code",
   "execution_count": 2,
   "metadata": {},
   "outputs": [],
   "source": [
    "import torch\n",
    "import numpy as np"
   ]
  },
  {
   "cell_type": "markdown",
   "metadata": {},
   "source": [
    "## Create tensors and convert from numpy"
   ]
  },
  {
   "cell_type": "code",
   "execution_count": 11,
   "metadata": {},
   "outputs": [
    {
     "name": "stdout",
     "output_type": "stream",
     "text": [
      "tensor([2., 2., 1.], dtype=torch.float64, requires_grad=True)\n",
      "tensor([[2., 1.],\n",
      "        [2., 1.],\n",
      "        [1., 1.]], dtype=torch.float64, requires_grad=True)\n"
     ]
    }
   ],
   "source": [
    "# basic tensor\n",
    "tsr = torch.tensor(data=[2,2,1], dtype=torch.double, requires_grad=True, device='cpu')\n",
    "tsr1 = torch.tensor(data=[[2,1],[2,1],[1,1]], dtype=torch.double, requires_grad=True, device='cpu')\n",
    "print(tsr)\n",
    "print(tsr1)"
   ]
  },
  {
   "cell_type": "code",
   "execution_count": 18,
   "metadata": {},
   "outputs": [
    {
     "name": "stdout",
     "output_type": "stream",
     "text": [
      "tensor([[1, 2],\n",
      "        [2, 2]], dtype=torch.int32)\n"
     ]
    }
   ],
   "source": [
    "# tensor from numpy\n",
    "array = np.array([[1,2],[2,2]])\n",
    "tsr3 = torch.from_numpy(array)\n",
    "tsr3.to('cpu')\n",
    "print(tsr3)"
   ]
  },
  {
   "cell_type": "markdown",
   "metadata": {},
   "source": [
    "## Check if GPU is available"
   ]
  },
  {
   "cell_type": "code",
   "execution_count": 13,
   "metadata": {},
   "outputs": [
    {
     "name": "stdout",
     "output_type": "stream",
     "text": [
      "Only CPU available\n"
     ]
    }
   ],
   "source": [
    "if torch.cuda.is_available():\n",
    "    print('GPU available')\n",
    "else:\n",
    "    print('Only CPU available')"
   ]
  },
  {
   "cell_type": "markdown",
   "metadata": {},
   "source": [
    "## Backward propagation"
   ]
  },
  {
   "cell_type": "markdown",
   "metadata": {},
   "source": [
    "The backward propagation is the derivative from the model function.</br>\n",
    "`a = (b*c) * d`</br>\n",
    "`da/db = d(b*c)/db * d(b*d)/db = d*c`</br>\n",
    "And it is used to calculate the gradient function for model optimization"
   ]
  },
  {
   "cell_type": "code",
   "execution_count": 28,
   "metadata": {},
   "outputs": [
    {
     "name": "stdout",
     "output_type": "stream",
     "text": [
      "x backward:  tensor([2.], dtype=torch.float64)\n"
     ]
    }
   ],
   "source": [
    "# To be able to access the backpropagation it is required to set requires_grad=True\n",
    "x = torch.tensor(data=[1],dtype=torch.double,requires_grad=True)\n",
    "w = x+2\n",
    "z = x*2\n",
    "\n",
    "z.backward()\n",
    "\n",
    "print('x backward: ', x.grad)"
   ]
  },
  {
   "cell_type": "code",
   "execution_count": 31,
   "metadata": {},
   "outputs": [
    {
     "name": "stdout",
     "output_type": "stream",
     "text": [
      "tensor([2., 2.], dtype=torch.float64)\n",
      "tensor([4., 4.], dtype=torch.float64)\n",
      "tensor([6., 6.], dtype=torch.float64)\n"
     ]
    }
   ],
   "source": [
    "# Attention to cases where loops are applied over the tensor, the backward value is stacked\n",
    "x = torch.tensor(data=[1,2],dtype=torch.double,requires_grad=True)\n",
    "\n",
    "for i in range(3):\n",
    "    z = (x*2).sum()\n",
    "    z.backward()\n",
    "    print(x.grad)"
   ]
  },
  {
   "cell_type": "code",
   "execution_count": 33,
   "metadata": {},
   "outputs": [
    {
     "name": "stdout",
     "output_type": "stream",
     "text": [
      "tensor([2., 2.], dtype=torch.float64)\n",
      "tensor([2., 2.], dtype=torch.float64)\n",
      "tensor([2., 2.], dtype=torch.float64)\n"
     ]
    }
   ],
   "source": [
    "# To correct this cases it is recommended to clear the backward pass after each loop\n",
    "x = torch.tensor(data=[1,2],dtype=torch.double,requires_grad=True)\n",
    "\n",
    "for i in range(3):\n",
    "    z = (x*2).sum()\n",
    "    z.backward()\n",
    "    print(x.grad)\n",
    "    x.grad.zero_()"
   ]
  },
  {
   "cell_type": "code",
   "execution_count": 100,
   "metadata": {},
   "outputs": [
    {
     "name": "stdout",
     "output_type": "stream",
     "text": [
      "iter 0 loss: 18.66667, w: 0.00000\n",
      "iter 1 loss: 0.08296, w: 1.86667\n",
      "iter 2 loss: 0.00037, w: 1.99111\n",
      "iter 3 loss: 0.00000, w: 1.99941\n",
      "iter 4 loss: 0.00000, w: 1.99996\n",
      "final loss: 0.00000, w: 2.00000\n"
     ]
    }
   ],
   "source": [
    "# The gradient is used to optimize the weights and minimize the loss function\n",
    "# ex. lets say the function is y = 2 * x and we want to find the weights w=2\n",
    "\n",
    "x = torch.from_numpy(np.array([1.0, 2.0, 3.0]))\n",
    "y = torch.from_numpy(np.array([2.0, 4.0, 6.0]))\n",
    "w = torch.tensor(data=0.0, dtype=float, requires_grad=True)\n",
    "\n",
    "def MSE():\n",
    "    return ((y - x*w)**2).mean()\n",
    "\n",
    "rate = 0.1\n",
    "\n",
    "for epoch in range(5):\n",
    "    w_mse = MSE()\n",
    "    w_mse.backward()\n",
    "    \n",
    "    print('iter {} loss: {:.5f}, w: {:.5f}'.format(epoch, w_mse, w))\n",
    "    \n",
    "    grad = w.grad\n",
    "    w.data -= grad*rate\n",
    "    w.grad.zero_()\n",
    "\n",
    "\n",
    "print('final loss: {:.5f}, w: {:.5f}'.format(MSE(), w))"
   ]
  },
  {
   "cell_type": "markdown",
   "metadata": {},
   "source": [
    "## Optimization"
   ]
  },
  {
   "cell_type": "markdown",
   "metadata": {},
   "source": [
    "It is important to learn the base concepts. In practice it is possible to use the built-in functions to optimize and menage the backward and forward passes"
   ]
  },
  {
   "cell_type": "code",
   "execution_count": 121,
   "metadata": {},
   "outputs": [
    {
     "name": "stdout",
     "output_type": "stream",
     "text": [
      "iter 0 loss: 18.66667, w: 1.86667\n",
      "iter 1 loss: 0.08296, w: 1.99111\n",
      "iter 2 loss: 0.00037, w: 1.99941\n",
      "iter 3 loss: 0.00000, w: 1.99996\n",
      "iter 4 loss: 0.00000, w: 2.00000\n",
      "final loss: 0.00000, w: 2.00000\n"
     ]
    }
   ],
   "source": [
    "# ex. lets say the function is y = 2 * x and we want to find the weights w=2\n",
    "\n",
    "x = torch.from_numpy(np.array([1.0, 2.0, 3.0]))\n",
    "y = torch.from_numpy(np.array([2.0, 4.0, 6.0]))\n",
    "w = torch.tensor(data=0.0, dtype=float, requires_grad=True)\n",
    "\n",
    "rate = 0.1\n",
    "optimizer = torch.optim.SGD([w], lr=rate)\n",
    "loss = torch.nn.MSELoss()\n",
    "\n",
    "for epoch in range(5):\n",
    " \n",
    "    w_mse = loss(x*w, y)\n",
    "    w_mse.backward()\n",
    "\n",
    "    optimizer.step()\n",
    "    optimizer.zero_grad()\n",
    "    \n",
    "    print('iter {} loss: {:.5f}, w: {:.5f}'.format(epoch, w_mse, w))\n",
    "\n",
    "\n",
    "print('final loss: {:.5f}, w: {:.5f}'.format(MSE(), w))"
   ]
  },
  {
   "cell_type": "code",
   "execution_count": 119,
   "metadata": {},
   "outputs": [
    {
     "data": {
      "text/plain": [
       "tensor([0.3098, 0.6195, 0.9293], dtype=torch.float64, grad_fn=<MulBackward0>)"
      ]
     },
     "execution_count": 119,
     "metadata": {},
     "output_type": "execute_result"
    }
   ],
   "source": [
    "x*w"
   ]
  },
  {
   "cell_type": "code",
   "execution_count": 120,
   "metadata": {},
   "outputs": [
    {
     "data": {
      "text/plain": [
       "tensor([2., 4., 6.], dtype=torch.float64)"
      ]
     },
     "execution_count": 120,
     "metadata": {},
     "output_type": "execute_result"
    }
   ],
   "source": [
    "y"
   ]
  },
  {
   "cell_type": "code",
   "execution_count": null,
   "metadata": {},
   "outputs": [],
   "source": []
  }
 ],
 "metadata": {
  "kernelspec": {
   "display_name": "Python 3",
   "language": "python",
   "name": "python3"
  },
  "language_info": {
   "codemirror_mode": {
    "name": "ipython",
    "version": 3
   },
   "file_extension": ".py",
   "mimetype": "text/x-python",
   "name": "python",
   "nbconvert_exporter": "python",
   "pygments_lexer": "ipython3",
   "version": "3.11.2"
  },
  "orig_nbformat": 4
 },
 "nbformat": 4,
 "nbformat_minor": 2
}
